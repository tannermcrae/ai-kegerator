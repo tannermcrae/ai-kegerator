{
 "cells": [
  {
   "cell_type": "code",
   "execution_count": 1,
   "metadata": {},
   "outputs": [],
   "source": [
    "import os"
   ]
  },
  {
   "cell_type": "code",
   "execution_count": 2,
   "metadata": {},
   "outputs": [],
   "source": [
    "beer_map = {\n",
    "    'full': [],\n",
    "    'empty': []\n",
    "}"
   ]
  },
  {
   "cell_type": "code",
   "execution_count": 3,
   "metadata": {},
   "outputs": [],
   "source": [
    "beer_to_idx = {\n",
    "    'full': 0,\n",
    "    'empty': 1\n",
    "}"
   ]
  },
  {
   "cell_type": "code",
   "execution_count": 4,
   "metadata": {},
   "outputs": [
    {
     "name": "stdout",
     "output_type": "stream",
     "text": [
      "('full', 2744)\n",
      "('empty', 4127)\n"
     ]
    }
   ],
   "source": [
    "data_dir = './data/img'\n",
    "fnames = os.listdir(data_dir)\n",
    "counter = 0\n",
    "for fn in fnames:\n",
    "    arr = fn.split('_')\n",
    "    category = arr[0]\n",
    "    beer_map[category].append({\n",
    "        'idx': counter,\n",
    "        'label': beer_to_idx[category],\n",
    "        'filename': fn,\n",
    "    })\n",
    "    counter += 1\n",
    "    \n",
    "for k in beer_map:\n",
    "    print(k, len(beer_map[k]))"
   ]
  },
  {
   "cell_type": "code",
   "execution_count": 5,
   "metadata": {},
   "outputs": [],
   "source": [
    "import random\n",
    "random.shuffle(beer_map['full'])\n",
    "random.shuffle(beer_map['empty'])"
   ]
  },
  {
   "cell_type": "code",
   "execution_count": 6,
   "metadata": {},
   "outputs": [],
   "source": [
    "def write_lst(image_arr, base_dir, file_path):\n",
    "    with open(file_path, 'w') as f:\n",
    "        count = 0\n",
    "        for img in image_arr:\n",
    "            label = img['label']\n",
    "            img_path = os.path.join(base_dir, img['filename'])\n",
    "            new_line = '\\t'.join([str(count), str(label), str(img_path)])\n",
    "            new_line += '\\n'\n",
    "            f.write(new_line)\n",
    "            count += 1"
   ]
  },
  {
   "cell_type": "code",
   "execution_count": 7,
   "metadata": {},
   "outputs": [],
   "source": [
    "# split data range\n",
    "min_data_len = min(len(beer_map['full']), len(beer_map['empty']))\n",
    "sample = (0, 8)\n",
    "train = (0, int(min_data_len * 0.7))\n",
    "validation = (int(min_data_len * 0.7), int(min_data_len * 0.85))\n",
    "test = (int(min_data_len * 0.85), int(min_data_len * 1))\n",
    "\n",
    "def split_dataset(from_idx, to_idx):\n",
    "    return beer_map['full'][from_idx: to_idx] + beer_map['empty'][from_idx: to_idx]"
   ]
  },
  {
   "cell_type": "code",
   "execution_count": 8,
   "metadata": {},
   "outputs": [
    {
     "name": "stdout",
     "output_type": "stream",
     "text": [
      "16\n"
     ]
    }
   ],
   "source": [
    "if not os.path.exists('./data/sample'):\n",
    "    os.makedirs('./data/sample')\n",
    "# sample set is for developing model and debugging\n",
    "# because debugging with large dataset takes a long time\n",
    "sample_set = split_dataset(sample[0], sample[1])\n",
    "write_lst(sample_set, './data/img', './data/sample/beer.lst')"
   ]
  },
  {
   "cell_type": "code",
   "execution_count": 10,
   "metadata": {},
   "outputs": [
    {
     "name": "stdout",
     "output_type": "stream",
     "text": [
      "3840\n",
      "824\n"
     ]
    }
   ],
   "source": [
    "train_set = split_dataset(train[0], train[1])\n",
    "print(len(train_set))\n",
    "validation_set = split_dataset(validation[0], validation[1])\n",
    "print(len(validation_set))"
   ]
  },
  {
   "cell_type": "code",
   "execution_count": 11,
   "metadata": {},
   "outputs": [],
   "source": [
    "if not os.path.exists('./data/train'):\n",
    "    os.makedirs('./data/train')\n",
    "train_set = split_dataset(train[0], train[1])\n",
    "write_lst(train_set, './data/img', './data/train/train.lst')"
   ]
  },
  {
   "cell_type": "code",
   "execution_count": 12,
   "metadata": {},
   "outputs": [],
   "source": [
    "if not os.path.exists('./data/validation'):\n",
    "    os.makedirs('./data/validation')\n",
    "validation_set = split_dataset(validation[0], validation[1])\n",
    "write_lst(validation_set, './data/img', './data/validation/validation.lst')"
   ]
  },
  {
   "cell_type": "code",
   "execution_count": 13,
   "metadata": {},
   "outputs": [],
   "source": [
    "if not os.path.exists('./data/test'):\n",
    "    os.makedirs('./data/test')\n",
    "test_set = split_dataset(test[0], test[1])\n",
    "write_lst(validation_set, './data/img', './data/test/test.lst')"
   ]
  },
  {
   "cell_type": "code",
   "execution_count": 16,
   "metadata": {},
   "outputs": [
    {
     "ename": "SyntaxError",
     "evalue": "invalid syntax (<ipython-input-16-5b2e66720819>, line 1)",
     "output_type": "error",
     "traceback": [
      "\u001b[0;36m  File \u001b[0;32m\"<ipython-input-16-5b2e66720819>\"\u001b[0;36m, line \u001b[0;32m1\u001b[0m\n\u001b[0;31m    python im2rec.py ./data/train . --center-crop True --resize 224 --pack-label True\u001b[0m\n\u001b[0m                ^\u001b[0m\n\u001b[0;31mSyntaxError\u001b[0m\u001b[0;31m:\u001b[0m invalid syntax\n"
     ]
    }
   ],
   "source": [
    "python im2rec.py ./data/train . --center-crop True --resize 224 --pack-label True"
   ]
  },
  {
   "cell_type": "code",
   "execution_count": 17,
   "metadata": {},
   "outputs": [
    {
     "ename": "SyntaxError",
     "evalue": "invalid syntax (<ipython-input-17-7984b3e7e3e7>, line 1)",
     "output_type": "error",
     "traceback": [
      "\u001b[0;36m  File \u001b[0;32m\"<ipython-input-17-7984b3e7e3e7>\"\u001b[0;36m, line \u001b[0;32m1\u001b[0m\n\u001b[0;31m    im2rec.py ./data/train . --center-crop True --resize 224 --pack-label True\u001b[0m\n\u001b[0m               ^\u001b[0m\n\u001b[0;31mSyntaxError\u001b[0m\u001b[0;31m:\u001b[0m invalid syntax\n"
     ]
    }
   ],
   "source": [
    "im2rec.py ./data/train . --center-crop True --resize 224 --pack-label True"
   ]
  },
  {
   "cell_type": "code",
   "execution_count": null,
   "metadata": {},
   "outputs": [],
   "source": []
  }
 ],
 "metadata": {
  "kernelspec": {
   "display_name": "Python 3",
   "language": "python",
   "name": "python3"
  },
  "language_info": {
   "codemirror_mode": {
    "name": "ipython",
    "version": 2
   },
   "file_extension": ".py",
   "mimetype": "text/x-python",
   "name": "python",
   "nbconvert_exporter": "python",
   "pygments_lexer": "ipython2",
   "version": "2.7.15"
  }
 },
 "nbformat": 4,
 "nbformat_minor": 2
}
